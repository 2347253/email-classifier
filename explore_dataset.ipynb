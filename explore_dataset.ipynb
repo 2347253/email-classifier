{
 "cells": [
  {
   "cell_type": "code",
   "execution_count": 3,
   "id": "8a51495f",
   "metadata": {},
   "outputs": [],
   "source": [
    "import pandas as pd\n",
    "\n",
    "# Load the dataset\n",
    "df = pd.read_csv(\"data/emails_type.csv\")\n",
    "\n",
    "\n"
   ]
  },
  {
   "cell_type": "code",
   "execution_count": 3,
   "id": "031ad19e",
   "metadata": {},
   "outputs": [
    {
     "name": "stdout",
     "output_type": "stream",
     "text": [
      "                                               email      type\n",
      "0  Subject: Unvorhergesehener Absturz der Datenan...  Incident\n",
      "1  Subject: Customer Support Inquiry\\n\\nSeeking i...   Request\n",
      "2  Subject: Data Analytics for Investment\\n\\nI am...   Request\n",
      "3  Subject: Krankenhaus-Dienstleistung-Problem\\n\\...  Incident\n",
      "4  Subject: Security\\n\\nDear Customer Support, I ...   Request\n"
     ]
    }
   ],
   "source": [
    "# Look at the first few rows\n",
    "print(df.head())\n",
    "\n"
   ]
  },
  {
   "cell_type": "code",
   "execution_count": 4,
   "id": "d0c96300",
   "metadata": {},
   "outputs": [
    {
     "name": "stdout",
     "output_type": "stream",
     "text": [
      "Index(['email', 'type'], dtype='object')\n",
      "email    0\n",
      "type     0\n",
      "dtype: int64\n"
     ]
    }
   ],
   "source": [
    "# Check column names and nulls\n",
    "print(df.columns)\n",
    "print(df.isnull().sum())\n",
    "\n"
   ]
  },
  {
   "cell_type": "code",
   "execution_count": 5,
   "id": "79c48c01",
   "metadata": {},
   "outputs": [
    {
     "name": "stdout",
     "output_type": "stream",
     "text": [
      "Incident    9586\n",
      "Request     6860\n",
      "Problem     5037\n",
      "Change      2517\n",
      "Name: type, dtype: int64\n"
     ]
    }
   ],
   "source": [
    "# Check class distribution\n",
    "print(df['type'].value_counts())"
   ]
  },
  {
   "cell_type": "code",
   "execution_count": 1,
   "id": "51252b22",
   "metadata": {},
   "outputs": [
    {
     "name": "stdout",
     "output_type": "stream",
     "text": [
      "{'encoding': 'utf-8', 'confidence': 0.99, 'language': ''}\n"
     ]
    }
   ],
   "source": [
    "import chardet\n",
    "\n",
    "with open(\"data/emails_type.csv\", \"rb\") as f:\n",
    "    result = chardet.detect(f.read())\n",
    "    print(result)\n"
   ]
  },
  {
   "cell_type": "code",
   "execution_count": 7,
   "id": "a87cc9e4",
   "metadata": {},
   "outputs": [
    {
     "name": "stdout",
     "output_type": "stream",
     "text": [
      "Subject: Ratung für Sicherung medizinischer Daten in HubSpot CRM PostgreSQL-Umgebungen\n",
      "\n",
      "Ratung, ob es möglich ist, Sicherung medizinischer Daten in HubSpot CRM PostgreSQL-Umgebungen durchzuführen? Danke.. My contact number is +971-50-123-4567.\n"
     ]
    }
   ],
   "source": [
    "print(df['email'].iloc[6])\n"
   ]
  }
 ],
 "metadata": {
  "kernelspec": {
   "display_name": "Python 3",
   "language": "python",
   "name": "python3"
  },
  "language_info": {
   "codemirror_mode": {
    "name": "ipython",
    "version": 3
   },
   "file_extension": ".py",
   "mimetype": "text/x-python",
   "name": "python",
   "nbconvert_exporter": "python",
   "pygments_lexer": "ipython3",
   "version": "3.11.4"
  }
 },
 "nbformat": 4,
 "nbformat_minor": 5
}
